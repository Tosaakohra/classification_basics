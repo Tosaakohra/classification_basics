{
 "cells": [
  {
   "cell_type": "markdown",
   "metadata": {},
   "source": [
    "# 6.1 KNN algo explained\n",
    "<img src=\"assets/KnnClassification.png\" width=\"300\" height=\"300\">\n",
    "- its good to choose an odd value of k in case of two class problem </br>\n",
    "- can be generalized to n class problem\n",
    "- the biggest show stoper is the search for nearest classes "
   ]
  },
  {
   "cell_type": "markdown",
   "metadata": {},
   "source": [
    "# 6.2 Linear regression"
   ]
  },
  {
   "cell_type": "markdown",
   "metadata": {},
   "source": [
    "<img src=\"assets/LinearRegression.png\" width=\"300\" height=\"200\">\n",
    "- green are the resituals between predicted value and real value"
   ]
  },
  {
   "cell_type": "markdown",
   "metadata": {},
   "source": [
    "# 6.2.1 Logistic regression \n",
    "<img src=\"assets/LogisticRegression.jpeg\" width=\"500\" height=\"500\">\n",
    "\n",
    "We use walds test to compute this function for multiple variables\n",
    "\n",
    "Based of the learned curve we can easily predict new test samples"
   ]
  },
  {
   "cell_type": "code",
   "execution_count": null,
   "metadata": {},
   "outputs": [],
   "source": []
  }
 ],
 "metadata": {
  "kernelspec": {
   "display_name": "classification",
   "language": "python",
   "name": "classification"
  },
  "language_info": {
   "codemirror_mode": {
    "name": "ipython",
    "version": 3
   },
   "file_extension": ".py",
   "mimetype": "text/x-python",
   "name": "python",
   "nbconvert_exporter": "python",
   "pygments_lexer": "ipython3",
   "version": "3.7.7"
  }
 },
 "nbformat": 4,
 "nbformat_minor": 4
}
